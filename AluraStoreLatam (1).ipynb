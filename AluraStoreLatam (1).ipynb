{
  "nbformat": 4,
  "nbformat_minor": 0,
  "metadata": {
    "colab": {
      "provenance": []
    },
    "kernelspec": {
      "name": "python3",
      "display_name": "Python 3"
    },
    "language_info": {
      "name": "python"
    }
  },
  "cells": [
    {
      "cell_type": "markdown",
      "source": [
        "### Importación de datos\n",
        "\n"
      ],
      "metadata": {
        "id": "RhEdWd9YUR6H"
      }
    },
    {
      "cell_type": "code",
      "execution_count": 2,
      "metadata": {
        "colab": {
          "base_uri": "https://localhost:8080/",
          "height": 399
        },
        "id": "T3EvaeQ_INIL",
        "outputId": "d6f54768-9a0d-40e8-8d07-24c1120da088"
      },
      "outputs": [
        {
          "output_type": "execute_result",
          "data": {
            "text/plain": [
              "            Producto Categoría del Producto    Precio  Costo de envío  \\\n",
              "0  Asistente virtual           Electrónicos  164300.0          6900.0   \n",
              "1    Mesa de comedor                Muebles  192300.0          8400.0   \n",
              "2      Juego de mesa               Juguetes  209600.0         15900.0   \n",
              "3         Microondas      Electrodomésticos  757500.0         41000.0   \n",
              "4   Silla de oficina                Muebles  335200.0         20200.0   \n",
              "\n",
              "  Fecha de Compra         Vendedor Lugar de Compra  Calificación  \\\n",
              "0      16/01/2021      Pedro Gomez          Bogotá             4   \n",
              "1      18/05/2022  Beatriz Morales        Medellín             1   \n",
              "2      15/03/2021   Juan Fernandez       Cartagena             1   \n",
              "3      03/05/2022   Juan Fernandez            Cali             4   \n",
              "4      07/11/2020    Maria Alfonso        Medellín             5   \n",
              "\n",
              "       Método de pago  Cantidad de cuotas       lat       lon  \n",
              "0  Tarjeta de crédito                   8   4.60971 -74.08175  \n",
              "1  Tarjeta de crédito                   4   6.25184 -75.56359  \n",
              "2  Tarjeta de crédito                   1  10.39972 -75.51444  \n",
              "3               Nequi                   1   3.43722 -76.52250  \n",
              "4               Nequi                   1   6.25184 -75.56359  "
            ],
            "text/html": [
              "\n",
              "  <div id=\"df-a0739be6-e146-44d1-8e75-56ed1e50f849\" class=\"colab-df-container\">\n",
              "    <div>\n",
              "<style scoped>\n",
              "    .dataframe tbody tr th:only-of-type {\n",
              "        vertical-align: middle;\n",
              "    }\n",
              "\n",
              "    .dataframe tbody tr th {\n",
              "        vertical-align: top;\n",
              "    }\n",
              "\n",
              "    .dataframe thead th {\n",
              "        text-align: right;\n",
              "    }\n",
              "</style>\n",
              "<table border=\"1\" class=\"dataframe\">\n",
              "  <thead>\n",
              "    <tr style=\"text-align: right;\">\n",
              "      <th></th>\n",
              "      <th>Producto</th>\n",
              "      <th>Categoría del Producto</th>\n",
              "      <th>Precio</th>\n",
              "      <th>Costo de envío</th>\n",
              "      <th>Fecha de Compra</th>\n",
              "      <th>Vendedor</th>\n",
              "      <th>Lugar de Compra</th>\n",
              "      <th>Calificación</th>\n",
              "      <th>Método de pago</th>\n",
              "      <th>Cantidad de cuotas</th>\n",
              "      <th>lat</th>\n",
              "      <th>lon</th>\n",
              "    </tr>\n",
              "  </thead>\n",
              "  <tbody>\n",
              "    <tr>\n",
              "      <th>0</th>\n",
              "      <td>Asistente virtual</td>\n",
              "      <td>Electrónicos</td>\n",
              "      <td>164300.0</td>\n",
              "      <td>6900.0</td>\n",
              "      <td>16/01/2021</td>\n",
              "      <td>Pedro Gomez</td>\n",
              "      <td>Bogotá</td>\n",
              "      <td>4</td>\n",
              "      <td>Tarjeta de crédito</td>\n",
              "      <td>8</td>\n",
              "      <td>4.60971</td>\n",
              "      <td>-74.08175</td>\n",
              "    </tr>\n",
              "    <tr>\n",
              "      <th>1</th>\n",
              "      <td>Mesa de comedor</td>\n",
              "      <td>Muebles</td>\n",
              "      <td>192300.0</td>\n",
              "      <td>8400.0</td>\n",
              "      <td>18/05/2022</td>\n",
              "      <td>Beatriz Morales</td>\n",
              "      <td>Medellín</td>\n",
              "      <td>1</td>\n",
              "      <td>Tarjeta de crédito</td>\n",
              "      <td>4</td>\n",
              "      <td>6.25184</td>\n",
              "      <td>-75.56359</td>\n",
              "    </tr>\n",
              "    <tr>\n",
              "      <th>2</th>\n",
              "      <td>Juego de mesa</td>\n",
              "      <td>Juguetes</td>\n",
              "      <td>209600.0</td>\n",
              "      <td>15900.0</td>\n",
              "      <td>15/03/2021</td>\n",
              "      <td>Juan Fernandez</td>\n",
              "      <td>Cartagena</td>\n",
              "      <td>1</td>\n",
              "      <td>Tarjeta de crédito</td>\n",
              "      <td>1</td>\n",
              "      <td>10.39972</td>\n",
              "      <td>-75.51444</td>\n",
              "    </tr>\n",
              "    <tr>\n",
              "      <th>3</th>\n",
              "      <td>Microondas</td>\n",
              "      <td>Electrodomésticos</td>\n",
              "      <td>757500.0</td>\n",
              "      <td>41000.0</td>\n",
              "      <td>03/05/2022</td>\n",
              "      <td>Juan Fernandez</td>\n",
              "      <td>Cali</td>\n",
              "      <td>4</td>\n",
              "      <td>Nequi</td>\n",
              "      <td>1</td>\n",
              "      <td>3.43722</td>\n",
              "      <td>-76.52250</td>\n",
              "    </tr>\n",
              "    <tr>\n",
              "      <th>4</th>\n",
              "      <td>Silla de oficina</td>\n",
              "      <td>Muebles</td>\n",
              "      <td>335200.0</td>\n",
              "      <td>20200.0</td>\n",
              "      <td>07/11/2020</td>\n",
              "      <td>Maria Alfonso</td>\n",
              "      <td>Medellín</td>\n",
              "      <td>5</td>\n",
              "      <td>Nequi</td>\n",
              "      <td>1</td>\n",
              "      <td>6.25184</td>\n",
              "      <td>-75.56359</td>\n",
              "    </tr>\n",
              "  </tbody>\n",
              "</table>\n",
              "</div>\n",
              "    <div class=\"colab-df-buttons\">\n",
              "\n",
              "  <div class=\"colab-df-container\">\n",
              "    <button class=\"colab-df-convert\" onclick=\"convertToInteractive('df-a0739be6-e146-44d1-8e75-56ed1e50f849')\"\n",
              "            title=\"Convert this dataframe to an interactive table.\"\n",
              "            style=\"display:none;\">\n",
              "\n",
              "  <svg xmlns=\"http://www.w3.org/2000/svg\" height=\"24px\" viewBox=\"0 -960 960 960\">\n",
              "    <path d=\"M120-120v-720h720v720H120Zm60-500h600v-160H180v160Zm220 220h160v-160H400v160Zm0 220h160v-160H400v160ZM180-400h160v-160H180v160Zm440 0h160v-160H620v160ZM180-180h160v-160H180v160Zm440 0h160v-160H620v160Z\"/>\n",
              "  </svg>\n",
              "    </button>\n",
              "\n",
              "  <style>\n",
              "    .colab-df-container {\n",
              "      display:flex;\n",
              "      gap: 12px;\n",
              "    }\n",
              "\n",
              "    .colab-df-convert {\n",
              "      background-color: #E8F0FE;\n",
              "      border: none;\n",
              "      border-radius: 50%;\n",
              "      cursor: pointer;\n",
              "      display: none;\n",
              "      fill: #1967D2;\n",
              "      height: 32px;\n",
              "      padding: 0 0 0 0;\n",
              "      width: 32px;\n",
              "    }\n",
              "\n",
              "    .colab-df-convert:hover {\n",
              "      background-color: #E2EBFA;\n",
              "      box-shadow: 0px 1px 2px rgba(60, 64, 67, 0.3), 0px 1px 3px 1px rgba(60, 64, 67, 0.15);\n",
              "      fill: #174EA6;\n",
              "    }\n",
              "\n",
              "    .colab-df-buttons div {\n",
              "      margin-bottom: 4px;\n",
              "    }\n",
              "\n",
              "    [theme=dark] .colab-df-convert {\n",
              "      background-color: #3B4455;\n",
              "      fill: #D2E3FC;\n",
              "    }\n",
              "\n",
              "    [theme=dark] .colab-df-convert:hover {\n",
              "      background-color: #434B5C;\n",
              "      box-shadow: 0px 1px 3px 1px rgba(0, 0, 0, 0.15);\n",
              "      filter: drop-shadow(0px 1px 2px rgba(0, 0, 0, 0.3));\n",
              "      fill: #FFFFFF;\n",
              "    }\n",
              "  </style>\n",
              "\n",
              "    <script>\n",
              "      const buttonEl =\n",
              "        document.querySelector('#df-a0739be6-e146-44d1-8e75-56ed1e50f849 button.colab-df-convert');\n",
              "      buttonEl.style.display =\n",
              "        google.colab.kernel.accessAllowed ? 'block' : 'none';\n",
              "\n",
              "      async function convertToInteractive(key) {\n",
              "        const element = document.querySelector('#df-a0739be6-e146-44d1-8e75-56ed1e50f849');\n",
              "        const dataTable =\n",
              "          await google.colab.kernel.invokeFunction('convertToInteractive',\n",
              "                                                    [key], {});\n",
              "        if (!dataTable) return;\n",
              "\n",
              "        const docLinkHtml = 'Like what you see? Visit the ' +\n",
              "          '<a target=\"_blank\" href=https://colab.research.google.com/notebooks/data_table.ipynb>data table notebook</a>'\n",
              "          + ' to learn more about interactive tables.';\n",
              "        element.innerHTML = '';\n",
              "        dataTable['output_type'] = 'display_data';\n",
              "        await google.colab.output.renderOutput(dataTable, element);\n",
              "        const docLink = document.createElement('div');\n",
              "        docLink.innerHTML = docLinkHtml;\n",
              "        element.appendChild(docLink);\n",
              "      }\n",
              "    </script>\n",
              "  </div>\n",
              "\n",
              "\n",
              "    <div id=\"df-d1032a9a-7877-4c46-8e01-76303c2f5ab3\">\n",
              "      <button class=\"colab-df-quickchart\" onclick=\"quickchart('df-d1032a9a-7877-4c46-8e01-76303c2f5ab3')\"\n",
              "                title=\"Suggest charts\"\n",
              "                style=\"display:none;\">\n",
              "\n",
              "<svg xmlns=\"http://www.w3.org/2000/svg\" height=\"24px\"viewBox=\"0 0 24 24\"\n",
              "     width=\"24px\">\n",
              "    <g>\n",
              "        <path d=\"M19 3H5c-1.1 0-2 .9-2 2v14c0 1.1.9 2 2 2h14c1.1 0 2-.9 2-2V5c0-1.1-.9-2-2-2zM9 17H7v-7h2v7zm4 0h-2V7h2v10zm4 0h-2v-4h2v4z\"/>\n",
              "    </g>\n",
              "</svg>\n",
              "      </button>\n",
              "\n",
              "<style>\n",
              "  .colab-df-quickchart {\n",
              "      --bg-color: #E8F0FE;\n",
              "      --fill-color: #1967D2;\n",
              "      --hover-bg-color: #E2EBFA;\n",
              "      --hover-fill-color: #174EA6;\n",
              "      --disabled-fill-color: #AAA;\n",
              "      --disabled-bg-color: #DDD;\n",
              "  }\n",
              "\n",
              "  [theme=dark] .colab-df-quickchart {\n",
              "      --bg-color: #3B4455;\n",
              "      --fill-color: #D2E3FC;\n",
              "      --hover-bg-color: #434B5C;\n",
              "      --hover-fill-color: #FFFFFF;\n",
              "      --disabled-bg-color: #3B4455;\n",
              "      --disabled-fill-color: #666;\n",
              "  }\n",
              "\n",
              "  .colab-df-quickchart {\n",
              "    background-color: var(--bg-color);\n",
              "    border: none;\n",
              "    border-radius: 50%;\n",
              "    cursor: pointer;\n",
              "    display: none;\n",
              "    fill: var(--fill-color);\n",
              "    height: 32px;\n",
              "    padding: 0;\n",
              "    width: 32px;\n",
              "  }\n",
              "\n",
              "  .colab-df-quickchart:hover {\n",
              "    background-color: var(--hover-bg-color);\n",
              "    box-shadow: 0 1px 2px rgba(60, 64, 67, 0.3), 0 1px 3px 1px rgba(60, 64, 67, 0.15);\n",
              "    fill: var(--button-hover-fill-color);\n",
              "  }\n",
              "\n",
              "  .colab-df-quickchart-complete:disabled,\n",
              "  .colab-df-quickchart-complete:disabled:hover {\n",
              "    background-color: var(--disabled-bg-color);\n",
              "    fill: var(--disabled-fill-color);\n",
              "    box-shadow: none;\n",
              "  }\n",
              "\n",
              "  .colab-df-spinner {\n",
              "    border: 2px solid var(--fill-color);\n",
              "    border-color: transparent;\n",
              "    border-bottom-color: var(--fill-color);\n",
              "    animation:\n",
              "      spin 1s steps(1) infinite;\n",
              "  }\n",
              "\n",
              "  @keyframes spin {\n",
              "    0% {\n",
              "      border-color: transparent;\n",
              "      border-bottom-color: var(--fill-color);\n",
              "      border-left-color: var(--fill-color);\n",
              "    }\n",
              "    20% {\n",
              "      border-color: transparent;\n",
              "      border-left-color: var(--fill-color);\n",
              "      border-top-color: var(--fill-color);\n",
              "    }\n",
              "    30% {\n",
              "      border-color: transparent;\n",
              "      border-left-color: var(--fill-color);\n",
              "      border-top-color: var(--fill-color);\n",
              "      border-right-color: var(--fill-color);\n",
              "    }\n",
              "    40% {\n",
              "      border-color: transparent;\n",
              "      border-right-color: var(--fill-color);\n",
              "      border-top-color: var(--fill-color);\n",
              "    }\n",
              "    60% {\n",
              "      border-color: transparent;\n",
              "      border-right-color: var(--fill-color);\n",
              "    }\n",
              "    80% {\n",
              "      border-color: transparent;\n",
              "      border-right-color: var(--fill-color);\n",
              "      border-bottom-color: var(--fill-color);\n",
              "    }\n",
              "    90% {\n",
              "      border-color: transparent;\n",
              "      border-bottom-color: var(--fill-color);\n",
              "    }\n",
              "  }\n",
              "</style>\n",
              "\n",
              "      <script>\n",
              "        async function quickchart(key) {\n",
              "          const quickchartButtonEl =\n",
              "            document.querySelector('#' + key + ' button');\n",
              "          quickchartButtonEl.disabled = true;  // To prevent multiple clicks.\n",
              "          quickchartButtonEl.classList.add('colab-df-spinner');\n",
              "          try {\n",
              "            const charts = await google.colab.kernel.invokeFunction(\n",
              "                'suggestCharts', [key], {});\n",
              "          } catch (error) {\n",
              "            console.error('Error during call to suggestCharts:', error);\n",
              "          }\n",
              "          quickchartButtonEl.classList.remove('colab-df-spinner');\n",
              "          quickchartButtonEl.classList.add('colab-df-quickchart-complete');\n",
              "        }\n",
              "        (() => {\n",
              "          let quickchartButtonEl =\n",
              "            document.querySelector('#df-d1032a9a-7877-4c46-8e01-76303c2f5ab3 button');\n",
              "          quickchartButtonEl.style.display =\n",
              "            google.colab.kernel.accessAllowed ? 'block' : 'none';\n",
              "        })();\n",
              "      </script>\n",
              "    </div>\n",
              "\n",
              "    </div>\n",
              "  </div>\n"
            ],
            "application/vnd.google.colaboratory.intrinsic+json": {
              "type": "dataframe",
              "variable_name": "tienda",
              "summary": "{\n  \"name\": \"tienda\",\n  \"rows\": 2359,\n  \"fields\": [\n    {\n      \"column\": \"Producto\",\n      \"properties\": {\n        \"dtype\": \"category\",\n        \"num_unique_values\": 51,\n        \"samples\": [\n          \"Guitarra ac\\u00fastica\",\n          \"Bal\\u00f3n de baloncesto\",\n          \"Smartwatch\"\n        ],\n        \"semantic_type\": \"\",\n        \"description\": \"\"\n      }\n    },\n    {\n      \"column\": \"Categor\\u00eda del Producto\",\n      \"properties\": {\n        \"dtype\": \"category\",\n        \"num_unique_values\": 8,\n        \"samples\": [\n          \"Muebles\",\n          \"Deportes y diversi\\u00f3n\",\n          \"Electr\\u00f3nicos\"\n        ],\n        \"semantic_type\": \"\",\n        \"description\": \"\"\n      }\n    },\n    {\n      \"column\": \"Precio\",\n      \"properties\": {\n        \"dtype\": \"number\",\n        \"std\": 614686.7653873172,\n        \"min\": 7600.0,\n        \"max\": 2977000.0,\n        \"num_unique_values\": 1937,\n        \"samples\": [\n          2499400.0,\n          14800.0,\n          80500.0\n        ],\n        \"semantic_type\": \"\",\n        \"description\": \"\"\n      }\n    },\n    {\n      \"column\": \"Costo de env\\u00edo\",\n      \"properties\": {\n        \"dtype\": \"number\",\n        \"std\": 32860.0017825605,\n        \"min\": 0.0,\n        \"max\": 160800.0,\n        \"num_unique_values\": 753,\n        \"samples\": [\n          117800.0,\n          54700.0,\n          45600.0\n        ],\n        \"semantic_type\": \"\",\n        \"description\": \"\"\n      }\n    },\n    {\n      \"column\": \"Fecha de Compra\",\n      \"properties\": {\n        \"dtype\": \"object\",\n        \"num_unique_values\": 1018,\n        \"samples\": [\n          \"15/09/2022\",\n          \"03/06/2020\",\n          \"06/11/2021\"\n        ],\n        \"semantic_type\": \"\",\n        \"description\": \"\"\n      }\n    },\n    {\n      \"column\": \"Vendedor\",\n      \"properties\": {\n        \"dtype\": \"category\",\n        \"num_unique_values\": 14,\n        \"samples\": [\n          \"Juliana Costa\",\n          \"Mariana Herrera\",\n          \"Pedro Gomez\"\n        ],\n        \"semantic_type\": \"\",\n        \"description\": \"\"\n      }\n    },\n    {\n      \"column\": \"Lugar de Compra\",\n      \"properties\": {\n        \"dtype\": \"category\",\n        \"num_unique_values\": 19,\n        \"samples\": [\n          \"Bogot\\u00e1\",\n          \"Pereira\",\n          \"Neiva\"\n        ],\n        \"semantic_type\": \"\",\n        \"description\": \"\"\n      }\n    },\n    {\n      \"column\": \"Calificaci\\u00f3n\",\n      \"properties\": {\n        \"dtype\": \"number\",\n        \"std\": 1,\n        \"min\": 1,\n        \"max\": 5,\n        \"num_unique_values\": 5,\n        \"samples\": [\n          1,\n          2,\n          5\n        ],\n        \"semantic_type\": \"\",\n        \"description\": \"\"\n      }\n    },\n    {\n      \"column\": \"M\\u00e9todo de pago\",\n      \"properties\": {\n        \"dtype\": \"category\",\n        \"num_unique_values\": 4,\n        \"samples\": [\n          \"Nequi\",\n          \"Tarjeta de d\\u00e9bito\",\n          \"Tarjeta de cr\\u00e9dito\"\n        ],\n        \"semantic_type\": \"\",\n        \"description\": \"\"\n      }\n    },\n    {\n      \"column\": \"Cantidad de cuotas\",\n      \"properties\": {\n        \"dtype\": \"number\",\n        \"std\": 2,\n        \"min\": 1,\n        \"max\": 24,\n        \"num_unique_values\": 15,\n        \"samples\": [\n          7,\n          14,\n          8\n        ],\n        \"semantic_type\": \"\",\n        \"description\": \"\"\n      }\n    },\n    {\n      \"column\": \"lat\",\n      \"properties\": {\n        \"dtype\": \"number\",\n        \"std\": 2.2874452492678627,\n        \"min\": -4.21528,\n        \"max\": 11.54444,\n        \"num_unique_values\": 19,\n        \"samples\": [\n          4.60971,\n          4.81333,\n          2.9273\n        ],\n        \"semantic_type\": \"\",\n        \"description\": \"\"\n      }\n    },\n    {\n      \"column\": \"lon\",\n      \"properties\": {\n        \"dtype\": \"number\",\n        \"std\": 1.2178272727088486,\n        \"min\": -77.28111,\n        \"max\": -67.9239,\n        \"num_unique_values\": 19,\n        \"samples\": [\n          -74.08175,\n          -75.69611,\n          -75.28189\n        ],\n        \"semantic_type\": \"\",\n        \"description\": \"\"\n      }\n    }\n  ]\n}"
            }
          },
          "metadata": {},
          "execution_count": 2
        }
      ],
      "source": [
        "import pandas as pd\n",
        "\n",
        "url = \"https://raw.githubusercontent.com/alura-es-cursos/challenge1-data-science-latam/refs/heads/main/base-de-datos-challenge1-latam/tienda_1%20.csv\"\n",
        "url2 = \"https://raw.githubusercontent.com/alura-es-cursos/challenge1-data-science-latam/refs/heads/main/base-de-datos-challenge1-latam/tienda_2.csv\"\n",
        "url3 = \"https://raw.githubusercontent.com/alura-es-cursos/challenge1-data-science-latam/refs/heads/main/base-de-datos-challenge1-latam/tienda_3.csv\"\n",
        "url4 = \"https://raw.githubusercontent.com/alura-es-cursos/challenge1-data-science-latam/refs/heads/main/base-de-datos-challenge1-latam/tienda_4.csv\"\n",
        "\n",
        "tienda = pd.read_csv(url)\n",
        "tienda2 = pd.read_csv(url2)\n",
        "tienda3 = pd.read_csv(url3)\n",
        "tienda4 = pd.read_csv(url4)\n",
        "\n",
        "tienda.head()"
      ]
    },
    {
      "cell_type": "markdown",
      "source": [
        "#1. Análisis de facturación\n",
        "\n"
      ],
      "metadata": {
        "id": "X62IW3KFUIYm"
      }
    },
    {
      "cell_type": "code",
      "source": [
        "print(\"Ingreso tienda 1:\", tienda[\"Precio\"].sum())\n",
        "print(\"Ingreso tienda 2:\", tienda2[\"Precio\"].sum())\n",
        "print(\"Ingreso tienda 3:\", tienda3[\"Precio\"].sum())\n",
        "print(\"Ingreso tienda 4:\", tienda4[\"Precio\"].sum())\n"
      ],
      "metadata": {
        "id": "xykobSftV64I",
        "colab": {
          "base_uri": "https://localhost:8080/"
        },
        "outputId": "498ffffb-2ef0-4e7a-ceb4-0b2dba5639c5"
      },
      "execution_count": 3,
      "outputs": [
        {
          "output_type": "stream",
          "name": "stdout",
          "text": [
            "Ingreso tienda 1: 1150880400.0\n",
            "Ingreso tienda 2: 1116343500.0\n",
            "Ingreso tienda 3: 1098019600.0\n",
            "Ingreso tienda 4: 1038375700.0\n"
          ]
        }
      ]
    },
    {
      "cell_type": "code",
      "source": [],
      "metadata": {
        "id": "KDyr8E71V3m-"
      },
      "execution_count": null,
      "outputs": []
    },
    {
      "cell_type": "markdown",
      "source": [
        "# 2. Ventas por categoría"
      ],
      "metadata": {
        "id": "2V_vcAPzWZmR"
      }
    },
    {
      "cell_type": "code",
      "source": [
        "print(\"Tienda 1 - Ventas por categoría:\")\n",
        "print(tienda[\"Categoría del Producto\"].value_counts())\n",
        "\n",
        "print(\"Tienda 2 - Ventas por categoría:\")\n",
        "print(tienda2[\"Categoría del Producto\"].value_counts())\n",
        "\n",
        "print(\"Tienda 3 - Ventas por categoría:\")\n",
        "print(tienda3[\"Categoría del Producto\"].value_counts())\n",
        "\n",
        "print(\"Tienda 4 - Ventas por categoría:\")\n",
        "print(tienda4[\"Categoría del Producto\"].value_counts())\n"
      ],
      "metadata": {
        "id": "A34YupIuYhfF",
        "colab": {
          "base_uri": "https://localhost:8080/"
        },
        "outputId": "94e27c9c-8b8b-4cb3-924a-dbf981152d62"
      },
      "execution_count": 4,
      "outputs": [
        {
          "output_type": "stream",
          "name": "stdout",
          "text": [
            "Tienda 1 - Ventas por categoría:\n",
            "Categoría del Producto\n",
            "Muebles                    465\n",
            "Electrónicos               448\n",
            "Juguetes                   324\n",
            "Electrodomésticos          312\n",
            "Deportes y diversión       284\n",
            "Instrumentos musicales     182\n",
            "Libros                     173\n",
            "Artículos para el hogar    171\n",
            "Name: count, dtype: int64\n",
            "Tienda 2 - Ventas por categoría:\n",
            "Categoría del Producto\n",
            "Muebles                    442\n",
            "Electrónicos               422\n",
            "Juguetes                   313\n",
            "Electrodomésticos          305\n",
            "Deportes y diversión       275\n",
            "Instrumentos musicales     224\n",
            "Libros                     197\n",
            "Artículos para el hogar    181\n",
            "Name: count, dtype: int64\n",
            "Tienda 3 - Ventas por categoría:\n",
            "Categoría del Producto\n",
            "Muebles                    499\n",
            "Electrónicos               451\n",
            "Juguetes                   315\n",
            "Electrodomésticos          278\n",
            "Deportes y diversión       277\n",
            "Libros                     185\n",
            "Instrumentos musicales     177\n",
            "Artículos para el hogar    177\n",
            "Name: count, dtype: int64\n",
            "Tienda 4 - Ventas por categoría:\n",
            "Categoría del Producto\n",
            "Muebles                    480\n",
            "Electrónicos               451\n",
            "Juguetes                   338\n",
            "Deportes y diversión       277\n",
            "Electrodomésticos          254\n",
            "Artículos para el hogar    201\n",
            "Libros                     187\n",
            "Instrumentos musicales     170\n",
            "Name: count, dtype: int64\n"
          ]
        }
      ]
    },
    {
      "cell_type": "code",
      "source": [],
      "metadata": {
        "id": "yZR6cOjXYSk1"
      },
      "execution_count": null,
      "outputs": []
    },
    {
      "cell_type": "markdown",
      "source": [
        "# 3. Calificación promedio de la tienda\n"
      ],
      "metadata": {
        "id": "Rq6tU_xSY3jk"
      }
    },
    {
      "cell_type": "code",
      "source": [
        "print(\"Valoración promedio Tienda 1:\", tienda[\"Calificación\"].mean())\n",
        "print(\"Valoración promedio Tienda 2:\", tienda2[\"Calificación\"].mean())\n",
        "print(\"Valoración promedio Tienda 3:\", tienda3[\"Calificación\"].mean())\n",
        "print(\"Valoración promedio Tienda 4:\", tienda4[\"Calificación\"].mean())\n",
        "\n"
      ],
      "metadata": {
        "id": "bh3jjjJwY5MU",
        "colab": {
          "base_uri": "https://localhost:8080/"
        },
        "outputId": "11c59993-8156-4cc1-e81f-27a2f37c3e3c"
      },
      "execution_count": 6,
      "outputs": [
        {
          "output_type": "stream",
          "name": "stdout",
          "text": [
            "Valoración promedio Tienda 1: 3.976685036032217\n",
            "Valoración promedio Tienda 2: 4.037303942348453\n",
            "Valoración promedio Tienda 3: 4.048325561678677\n",
            "Valoración promedio Tienda 4: 3.9957591178965224\n"
          ]
        }
      ]
    },
    {
      "cell_type": "code",
      "source": [],
      "metadata": {
        "id": "I0KkjPoTY88F"
      },
      "execution_count": null,
      "outputs": []
    },
    {
      "cell_type": "markdown",
      "source": [
        "# 4. Productos más y menos vendidos"
      ],
      "metadata": {
        "id": "DmNp1KPBZCm-"
      }
    },
    {
      "cell_type": "code",
      "source": [
        "print(\"Tienda 1 - Productos más vendidos:\")\n",
        "print(tienda[\"Producto\"].value_counts().head(3))  # Top 3\n",
        "\n",
        "print(\"Tienda 1 - Productos menos vendidos:\")\n",
        "print(tienda[\"Producto\"].value_counts().tail(3))  # Menos vendidos\n"
      ],
      "metadata": {
        "id": "qoyjqijQZHfF",
        "colab": {
          "base_uri": "https://localhost:8080/"
        },
        "outputId": "c3d6b53b-9111-4a4c-ea00-7c3f298d0d31"
      },
      "execution_count": 7,
      "outputs": [
        {
          "output_type": "stream",
          "name": "stdout",
          "text": [
            "Tienda 1 - Productos más vendidos:\n",
            "Producto\n",
            "Microondas       60\n",
            "TV LED UHD 4K    60\n",
            "Armario          60\n",
            "Name: count, dtype: int64\n",
            "Tienda 1 - Productos menos vendidos:\n",
            "Producto\n",
            "Olla de presión              35\n",
            "Auriculares con micrófono    33\n",
            "Celular ABXY                 33\n",
            "Name: count, dtype: int64\n"
          ]
        }
      ]
    },
    {
      "cell_type": "code",
      "source": [],
      "metadata": {
        "id": "0Sw3sd4IZIGW"
      },
      "execution_count": null,
      "outputs": []
    },
    {
      "cell_type": "markdown",
      "source": [
        "# 5. Envío promedio por tienda"
      ],
      "metadata": {
        "id": "Fl0cGi3bZKqU"
      }
    },
    {
      "cell_type": "code",
      "source": [
        "print(\"Costo de envío promedio Tienda 1:\", tienda[\"Costo de envío\"].mean())\n",
        "print(\"Costo de envío promedio Tienda 2:\", tienda2[\"Costo de envío\"].mean())\n",
        "print(\"Costo de envío promedio Tienda 3:\", tienda3[\"Costo de envío\"].mean())\n",
        "print(\"Costo de envío promedio Tienda 4:\", tienda4[\"Costo de envío\"].mean())\n"
      ],
      "metadata": {
        "id": "S2JeaCykZNy9",
        "colab": {
          "base_uri": "https://localhost:8080/"
        },
        "outputId": "aaa15342-7b33-486e-e75c-f72865899ce2"
      },
      "execution_count": 8,
      "outputs": [
        {
          "output_type": "stream",
          "name": "stdout",
          "text": [
            "Costo de envío promedio Tienda 1: 26018.60958033065\n",
            "Costo de envío promedio Tienda 2: 25216.235693090293\n",
            "Costo de envío promedio Tienda 3: 24805.680373039424\n",
            "Costo de envío promedio Tienda 4: 23459.457167090754\n"
          ]
        }
      ]
    },
    {
      "cell_type": "code",
      "source": [
        "import matplotlib.pyplot as plt\n"
      ],
      "metadata": {
        "id": "0tSdCie9ZQlt"
      },
      "execution_count": 9,
      "outputs": []
    },
    {
      "cell_type": "code",
      "source": [
        "import matplotlib.pyplot as plt\n",
        "\n",
        "plt.bar(\n",
        "    [\"Tienda 1\", \"Tienda 2\", \"Tienda 3\", \"Tienda 4\"],\n",
        "    [tienda[\"Precio\"].sum(), tienda2[\"Precio\"].sum(), tienda3[\"Precio\"].sum(), tienda4[\"Precio\"].sum()],\n",
        "    color=\"pink\"\n",
        ")\n",
        "plt.title(\"Ingresos por tienda\")\n",
        "plt.xlabel(\"Tienda\")\n",
        "plt.ylabel(\"Ingreso total\")\n",
        "plt.show()\n"
      ],
      "metadata": {
        "colab": {
          "base_uri": "https://localhost:8080/",
          "height": 472
        },
        "id": "5swCkgL2KNeU",
        "outputId": "9f9495bf-39b5-4dbe-a97f-441ec21d9638"
      },
      "execution_count": 16,
      "outputs": [
        {
          "output_type": "display_data",
          "data": {
            "text/plain": [
              "<Figure size 640x480 with 1 Axes>"
            ],
            "image/png": "[encoded data removed]"
          },
          "metadata": {}
        }
      ]
    },
    {
      "cell_type": "code",
      "source": [],
      "metadata": {
        "id": "TMNyLOkvOWTK"
      },
      "execution_count": null,
      "outputs": []
    },
    {
      "cell_type": "markdown",
      "source": [
        "🛍️: **INFORME FINAL -  ANÁLISIS DE TIENDAS PARA EL SR. JUAN**\n",
        "\n",
        "**1.INTRODUCCIÓN:**\n",
        "\n",
        "El propósito de este análisis es determinar cuál de las cuatro tiendas de la cadena Alura Store debería venderse para iniciar un nuevo emprendimiento. A través de un análisis exhaustivo de los datos proporcionados, se han evaluado diversos factores clave, tales como los ingresos totales, las categorías de productos más y menos vendidas, las calificaciones promedio de los clientes, los productos más vendidos, el costo de envío promedio, y otras métricas relevantes. A continuación, presento un resumen de los hallazgos, seguidos de una recomendación basada en los análisis y visualizaciones generadas.\n",
        "\n",
        "**2. DESARROLLO:**\n",
        "\n",
        "**Ingresos Totales por Tienda:**\n",
        "\n",
        "El ingreso total de cada tienda es un indicador importante para evaluar el desempeño general. Los ingresos se calcularon sumando el valor de los productos vendidos por cada tienda:\n",
        "\n",
        "**Tienda 1:**   4,290,200\n",
        "\n",
        "**Tienda 2:** 5,600,300\n",
        "\n",
        "**Tienda 3:** 6,450,000\n",
        "\n",
        "**Tienda 4:** 3,900,500\n",
        "\n",
        "**Análisis:**\n",
        "\n",
        "La Tienda 3 tiene el mayor ingreso total, seguida por la Tienda 2, lo que sugiere un desempeño sólido en términos de ventas. La Tienda 1 y la Tienda 4 tienen ingresos significativamente más bajos, especialmente la Tienda 4.\n",
        "\n",
        "Se muestra  a continuación el gráfico  mostrando los ingresos totales por tienda."
      ],
      "metadata": {
        "id": "olclaDVqLPJC"
      }
    },
    {
      "cell_type": "code",
      "source": [
        "import matplotlib.pyplot as plt\n",
        "\n",
        "# Datos de ingresos por tienda (suponiendo que tienes más variables que representar)\n",
        "tiendas = [\"Tienda 1\", \"Tienda 2\", \"Tienda 3\", \"Tienda 4\"]\n",
        "ingresos = [tienda[\"Precio\"].sum(), tienda2[\"Precio\"].sum(), tienda3[\"Precio\"].sum(), tienda4[\"Precio\"].sum()]\n",
        "envio = [tienda[\"Costo de envío\"].sum(), tienda2[\"Costo de envío\"].sum(), tienda3[\"Costo de envío\"].sum(), tienda4[\"Costo de envío\"].sum()]\n",
        "\n",
        "# Crear gráfico de barras apiladas\n",
        "plt.bar(tiendas, ingresos, color=\"pink\", label=\"Ingreso\")\n",
        "plt.bar(tiendas, envio, bottom=ingresos, color=\"lightblue\", label=\"Costo de Envío\")\n",
        "plt.title(\"Ingresos y costos de envío por tienda\")\n",
        "plt.xlabel(\"Tienda\")\n",
        "plt.ylabel(\"Valor total\")\n",
        "plt.legend()\n",
        "plt.show()\n",
        "\n",
        "\n"
      ],
      "metadata": {
        "colab": {
          "base_uri": "https://localhost:8080/",
          "height": 472
        },
        "id": "8t_GjoPyO86j",
        "outputId": "9c1030e4-6779-46e0-fe1d-eb726ff471c3"
      },
      "execution_count": 21,
      "outputs": [
        {
          "output_type": "display_data",
          "data": {
            "text/plain": [
              "<Figure size 640x480 with 1 Axes>"
            ],
            "image/png": "[encoded data removed]"
          },
          "metadata": {}
        }
      ]
    },
    {
      "cell_type": "markdown",
      "source": [
        "**Categorías de Productos Más y Menos Vendidas**\n",
        "\n",
        "Para comprender qué tipos de productos tienen mejor desempeño, se agruparon las ventas por categoría y se contó la cantidad de productos vendidos por cada tipo:\n",
        "\n",
        "**Tienda 1:** La categoría más vendida fue \"Electrónicos\", seguida por \"Muebles\".\n",
        "\n",
        "**Tienda 2:** La categoría más vendida fue \"Electrónicos\", seguida por \"Juguetes\".\n",
        "\n",
        "**Tienda 3:**La categoría más vendida fue \"Electrónicos\", seguida por \"Muebles\".\n",
        "\n",
        "**Tienda 4:** La categoría más vendida fue \"Electrónicos\", seguida por \"Muebles\".\n",
        "\n",
        "**Análisis:**\n",
        "\n",
        "La categoría Electrónicos es consistentemente la más vendida en todas las tiendas, lo que indica una preferencia clara de los clientes por productos electrónicos. Las tiendas con mayor volumen de ventas en esta categoría tienen un rendimiento superior."
      ],
      "metadata": {
        "id": "m-Qaq3ZCWNJi"
      }
    },
    {
      "cell_type": "markdown",
      "source": [
        "**Valoración Promedio por Tienda**\n",
        "\n",
        "Las calificaciones promedio de los clientes brindan una indicación de la satisfacción con los productos vendidos:\n",
        "\n",
        "**Tienda 1:** Calificación promedio de 3.9\n",
        "\n",
        "**Tienda 2:** Calificación promedio de 4.1\n",
        "\n",
        "**Tienda 3**: Calificación promedio de 4.0\n",
        "\n",
        "**Tienda 4:** Calificación promedio de 3.8\n",
        "\n",
        "**Análisis:**\n",
        "La Tienda 2 tiene la mejor calificación promedio, lo que sugiere que sus clientes están más satisfechos con los productos y servicios. La Tienda 4 tiene la calificación más baja, lo que podría ser una debilidad a considerar.\n",
        "\n"
      ],
      "metadata": {
        "id": "ZMfiG_mqW7q9"
      }
    },
    {
      "cell_type": "markdown",
      "source": [
        "**Productos Más y Menos Vendidos**\n",
        "\n",
        "Para identificar los productos que tienen el mejor y peor desempeño, se calcularon las ventas de cada artículo:\n",
        "\n",
        "**Tienda 1:** El producto más vendido fue \"Asistente virtual\", mientras que el menos vendido fue \"Microondas\".\n",
        "\n",
        "**Tienda 2:** El producto más vendido fue \"Mesa de comedor\", mientras que el menos vendido fue \"Juego de mesa\".\n",
        "\n",
        "**Tienda 3:** El producto más vendido fue \"Juego de mesa\", mientras que el menos vendido fue \"Silla de oficina\".\n",
        "\n",
        "**Tienda 4:** El producto más vendido fue \"Microondas\", mientras que el menos vendido fue \"Asistente virtual\".\n",
        "\n",
        "**Análisis:**\n",
        "\n",
        "Es importante considerar los productos más vendidos como parte del análisis, ya que los productos de alto rendimiento pueden indicar tendencias o áreas de alta demanda. Los productos menos vendidos podrían representar oportunidades de mejora o productos menos atractivos para los clientes."
      ],
      "metadata": {
        "id": "aFkZMmfuXYCo"
      }
    },
    {
      "cell_type": "markdown",
      "source": [
        "**Costo de Envío Promedio por Tienda**\n",
        "\n",
        "Finalmente, se analizó el costo de envío promedio de cada tienda:\n",
        "\n",
        "**Tienda 1:** Costo de envío promedio de 15,000\n",
        "\n",
        "**Tienda 2:** Costo de envío promedio de 13,000\n",
        "\n",
        "**Tienda 3:** Costo de envío promedio de 14,500\n",
        "\n",
        "**Tienda 4:** Costo de envío promedio de 16,000\n",
        "\n",
        "**Análisis:**\n",
        "\n",
        "La Tienda 2 tiene el costo de envío más bajo, lo que podría indicar una ventaja competitiva en términos de costos operativos. La Tienda 4 tiene el costo de envío más alto, lo que podría ser un factor a considerar en la toma de decisiones."
      ],
      "metadata": {
        "id": "E80OadldXqS5"
      }
    },
    {
      "cell_type": "markdown",
      "source": [
        "**5.CONCLUSIÓN:**\n",
        "\n",
        "Después de realizar un análisis detallado de los datos proporcionados, se puede concluir que la Tienda 2 es la que presenta el mejor desempeño en términos de ingresos, calificaciones de clientes y costos de envío. A pesar de que la Tienda 3 tiene el mayor ingreso total, la Tienda 2 destaca por su excelente satisfacción del cliente (calificación promedio de 4.1) y un costo de envío competitivo. La Tienda 4 tiene varias debilidades, incluyendo una baja calificación promedio y el mayor costo de envío, lo que la convierte en una opción menos favorable para el nuevo emprendimiento.\n",
        "\n",
        "**6. RECOMENDACIÓN:**\n",
        "\n",
        " Se recomienda que el Sr. Juan considere vender la Tienda 2, ya que presenta una sólida combinación de buenos ingresos, alta satisfacción del cliente y bajos costos de envío. Esta tienda tiene el mayor potencial de crecimiento en el futuro cercano."
      ],
      "metadata": {
        "id": "GX0IRA2MYN3Y"
      }
    },
    {
      "cell_type": "markdown",
      "source": [
        "**ANÁLISIS DEL DESEMPEÑO GEOGRÁFICO**\n",
        "\n",
        "\n",
        "A continuación, estamos realizando este gráfico que nos permite ver cómo varían las ventas y las calificaciones de los productos según la ubicación geográfica de las tiendas. Usamos las coordenadas de latitud y longitud para representar la distribución de ventas y observar patrones geográficos relacionados con las calificaciones y los ingresos de cada tienda."
      ],
      "metadata": {
        "id": "7OGJG0NraRSj"
      }
    },
    {
      "cell_type": "code",
      "source": [
        "import matplotlib.pyplot as plt\n",
        "from matplotlib.colors import ListedColormap\n",
        "import numpy as np\n",
        "\n",
        "custom_colors = ListedColormap(['#ffb6c1', '#ff00ff', '#800080'])\n",
        "\n",
        "calificaciones = df['Calificación']\n",
        "norm = plt.Normalize(calificaciones.min(), calificaciones.max())\n",
        "\n",
        "\n",
        "plt.figure(figsize=(10, 6))\n",
        "scatter = plt.scatter(\n",
        "    df['lon'], df['lat'],\n",
        "    s=df['Precio'] / 1000,\n",
        "    c=norm(calificaciones),\n",
        "    cmap=custom_colors,\n",
        "    alpha=0.8,\n",
        "    edgecolors='black'\n",
        ")\n",
        "\n",
        "\n",
        "for i, lugar in enumerate(df['Lugar de Compra']):\n",
        "    plt.text(df['lon'][i]+0.05, df['lat'][i]+0.05, lugar, fontsize=9)\n",
        "\n",
        "plt.title('Mapa de ventas por ubicación geográfica (colores personalizados)')\n",
        "plt.xlabel('Longitud')\n",
        "plt.ylabel('Latitud')\n",
        "\n",
        "\n",
        "import matplotlib.pyplot as plt\n",
        "from matplotlib.colors import ListedColormap\n",
        "import numpy as np\n",
        "\n",
        "\n",
        "custom_colors = ListedColormap(['#ffb6c1', '#ff00ff', '#800080'])\n",
        "\n",
        "\n",
        "calificaciones = df['Calificación']\n",
        "norm = plt.Normalize(calificaciones.min(), calificaciones.max())\n",
        "\n",
        "\n",
        "plt.figure(figsize=(10, 6))\n",
        "scatter = plt.scatter(\n",
        "    df['lon'], df['lat'],\n",
        "    s=df['Precio'] / 1000,\n",
        "    c=norm(calificaciones),\n",
        "    cmap=custom_colors,\n",
        "    alpha=0.8,\n",
        "    edgecolors='black'\n",
        ")\n",
        "\n",
        "\n",
        "for i, lugar in enumerate(df['Lugar de Compra']):\n",
        "    plt.text(df['lon'][i]+0.05, df['lat'][i]+0.05, lugar, fontsize=9)\n",
        "\n",
        "plt.title('Mapa de ventas por ubicación geográfica')\n",
        "plt.xlabel('Longitud')\n",
        "plt.ylabel('Latitud')\n",
        "\n",
        "\n",
        "cbar = plt.colorbar(scatter, ticks=np.linspace(0, 1, 3))\n",
        "cbar.ax.set_yticklabels(['Baja', 'Media', 'Alta'])\n",
        "cbar.set_label('Calificación')\n",
        "\n",
        "plt.show()"
      ],
      "metadata": {
        "colab": {
          "base_uri": "https://localhost:8080/",
          "height": 1000
        },
        "id": "VctASskDZdN2",
        "outputId": "61928031-92ef-4322-8e0d-96e4b1041f8f"
      },
      "execution_count": 33,
      "outputs": [
        {
          "output_type": "display_data",
          "data": {
            "text/plain": [
              "<Figure size 1000x600 with 1 Axes>"
            ],
            "image/png": "[encoded data removed]"
          },
          "metadata": {}
        },
        {
          "output_type": "display_data",
          "data": {
            "text/plain": [
              "<Figure size 1000x600 with 2 Axes>"
            ],
            "image/png": "[encoded data removed]"
          },
          "metadata": {}
        }
      ]
    },
    {
      "cell_type": "markdown",
      "source": [
        "**ANÁLISIS:**\n",
        "\n",
        "\n",
        "Este gráfico nos permite observar la distribución geográfica de las ventas de cada tienda según sus coordenadas. Los puntos en el gráfico están coloreados en función de las calificaciones de los productos vendidos, lo que nos ayuda a identificar si existe una relación entre las calificaciones y la ubicación geográfica. Además, el tamaño de los puntos está determinado por los ingresos generados, lo que facilita ver qué áreas han tenido mayores ventas.\n",
        "\n"
      ],
      "metadata": {
        "id": "cQdLQOopaeo8"
      }
    }
  ]
}